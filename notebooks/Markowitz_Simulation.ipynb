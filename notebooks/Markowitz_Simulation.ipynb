{
 "cells": [
  {
   "cell_type": "markdown",
   "metadata": {},
   "source": [
    "# Markowitz Efficient Frontier Simulation"
   ]
  },
  {
   "cell_type": "markdown",
   "metadata": {},
   "source": [
    "#### Imports"
   ]
  },
  {
   "cell_type": "code",
   "execution_count": 10,
   "metadata": {
    "ExecuteTime": {
     "end_time": "2021-12-07T16:27:30.378489Z",
     "start_time": "2021-12-07T16:27:30.334389Z"
    }
   },
   "outputs": [],
   "source": [
    "from datetime import datetime\n",
    "import os\n",
    "os.chdir('/home/steven/sif')\n",
    "from sifinfra import sif_utils as su\n",
    "from matplotlib.ticker import FuncFormatter\n",
    "import warnings\n",
    "warnings.filterwarnings('ignore')"
   ]
  },
  {
   "cell_type": "markdown",
   "metadata": {},
   "source": [
    "#### Grab Close Price Data"
   ]
  },
  {
   "cell_type": "code",
   "execution_count": null,
   "metadata": {
    "ExecuteTime": {
     "end_time": "2021-12-19T19:35:15.176513Z",
     "start_time": "2021-12-19T19:34:54.825750Z"
    }
   },
   "outputs": [
    {
     "name": "stderr",
     "output_type": "stream",
     "text": [
      "/Users/stevenstruglia/sif/sif/sifinfra/sif_utils.py:682: DeprecationWarning: execute_query is a deprecated function. sifinfra.sif_utils is a deprecated module and will be removed in a future version of sif. Please remove calls to this module and replace them with alternatives from siftools.data_utils\n",
      "  cols, response = execute_query(query, query_params)\n",
      "/Users/stevenstruglia/sif/sif/sifinfra/sif_utils.py:322: DeprecationWarning: execute_query is a deprecated function. sifinfra.sif_utils is a deprecated module and will be removed in a future version of sif. Please remove calls to this module and replace them with alternatives from siftools.data_utils\n",
      "  cols, response = execute_query(query, params=query_params)\n",
      "/Users/stevenstruglia/sif/sif/sifinfra/sif_utils.py:254: DeprecationWarning: execute_query is a deprecated function. sifinfra.sif_utils is a deprecated module and will be removed in a future version of sif. Please remove calls to this module and replace them with alternatives from siftools.data_utils\n",
      "  cols, response = execute_query(query, params=query_params)\n",
      "/Users/stevenstruglia/sif/sif/sifinfra/sif_utils.py:254: DeprecationWarning: execute_query is a deprecated function. sifinfra.sif_utils is a deprecated module and will be removed in a future version of sif. Please remove calls to this module and replace them with alternatives from siftools.data_utils\n",
      "  cols, response = execute_query(query, params=query_params)\n"
     ]
    }
   ],
   "source": [
    "start = datetime.datetime(2020, 1, 1)\n",
    "end = datetime.datetime(2020, 4, 1)\n",
    "tickers = sorted(su.get_universe_tickers(100, start, end))\n",
    "universe_size = len(tickers)\n",
    "price_attrs = ['close']\n",
    "new_data = su.get_equity_data(tickers, start, end, price_attrs)"
   ]
  },
  {
   "cell_type": "code",
   "execution_count": null,
   "metadata": {
    "ExecuteTime": {
     "end_time": "2021-12-19T19:35:15.183170Z",
     "start_time": "2021-12-19T19:35:15.178525Z"
    }
   },
   "outputs": [
    {
     "name": "stderr",
     "output_type": "stream",
     "text": [
      "/usr/local/lib/python3.8/site-packages/ipykernel/ipkernel.py:287: DeprecationWarning: `should_run_async` will not call `transform_cell` automatically in the future. Please pass the result to `transformed_cell` argument and any exception that happen during thetransform in `preprocessing_exc_tuple` in IPython 7.17 and above.\n",
      "  and should_run_async(code)\n"
     ]
    }
   ],
   "source": [
    "daily_returns = new_data['close'].pct_change(1)\n",
    "daily_returns = daily_returns.iloc[1:,]"
   ]
  },
  {
   "cell_type": "markdown",
   "metadata": {},
   "source": [
    "#### Calculate Markowitz Efficient Frontier"
   ]
  },
  {
   "cell_type": "code",
   "execution_count": 219,
   "metadata": {
    "ExecuteTime": {
     "end_time": "2021-12-19T19:38:38.221226Z",
     "start_time": "2021-12-19T19:38:06.685387Z"
    }
   },
   "outputs": [
    {
     "name": "stderr",
     "output_type": "stream",
     "text": [
      "/usr/local/lib/python3.8/site-packages/ipykernel/ipkernel.py:287: DeprecationWarning: `should_run_async` will not call `transform_cell` automatically in the future. Please pass the result to `transformed_cell` argument and any exception that happen during thetransform in `preprocessing_exc_tuple` in IPython 7.17 and above.\n",
      "  and should_run_async(code)\n"
     ]
    }
   ],
   "source": [
    "import cvxopt as opt\n",
    "from cvxopt import blas, solvers\n",
    "solvers.options['show_progress'] = False\n",
    "\n",
    "def optimal_portfolio(returns):\n",
    "    \n",
    "    n = len(returns.T)\n",
    "    N = 10000\n",
    "    \n",
    "    # Generate scale of expected values to optimize on\n",
    "    mus = [10**(6.0 * t/N - 1.0) for t in range(N)]\n",
    "\n",
    "    # Convert fixed matrices to cvxopt matrices\n",
    "    S = opt.matrix(np.cov(returns.T))\n",
    "    pbar = opt.matrix(np.mean(returns))\n",
    "\n",
    "    # Create constraint matrices\n",
    "    G = -opt.matrix(np.eye(n))  \n",
    "    h = opt.matrix(0.0, (n ,1))\n",
    "    A = opt.matrix(1.0, (1, n))\n",
    "    b = opt.matrix(1.0)\n",
    "\n",
    "    # Calculate efficient frontier weights using quadratic programming solver\n",
    "    portfolios = [solvers.qp(mu * S, -pbar, G, h, A, b)['x'] \n",
    "                  for mu in mus]\n",
    "    ## Risks and returns\n",
    "    returns = [blas.dot(pbar, x)*252 for x in portfolios]\n",
    "    risks = [np.sqrt(blas.dot(x.trans(), S * x)) * np.sqrt(252) for x in portfolios]\n",
    "    \n",
    "    ## Calculate 2nd degree polynomial of frontier curve\n",
    "    m1 = np.polyfit(returns, risks, 2)\n",
    "    x1 = np.sqrt(m1[2] / m1[0])\n",
    "    \n",
    "    # Calculate optimal sharpe ratio allocations\n",
    "    wt = solvers.qp(opt.matrix(x1 * S), -pbar, G, h, A, b)['x']\n",
    "\n",
    "    return returns, risks, m1, x1"
   ]
  },
  {
   "cell_type": "markdown",
   "metadata": {},
   "source": [
    "#### Efficient Frontier for Real Data"
   ]
  },
  {
   "cell_type": "code",
   "execution_count": 230,
   "metadata": {
    "ExecuteTime": {
     "end_time": "2021-12-19T20:02:50.841323Z",
     "start_time": "2021-12-19T20:02:50.641429Z"
    }
   },
   "outputs": [
    {
     "data": {
      "image/png": "[encoded data removed]",
      "text/plain": [
       "<Figure size 432x288 with 1 Axes>"
      ]
     },
     "metadata": {
      "needs_background": "light"
     },
     "output_type": "display_data"
    }
   ],
   "source": [
    "returns, risks, m1, x1 = optimal_portfolio(daily_returns)\n",
    "rets = np.array(returns)\n",
    "stds = np.array(risks)\n",
    "plt.plot(risks, returns, lw=5)\n",
    "plt.xlabel(\"Portfolio Risk\")\n",
    "plt.ylabel(\"Portfolio Return\")\n",
    "plt.title('Real Efficient Frontier')\n",
    "plt.show()"
   ]
  },
  {
   "cell_type": "markdown",
   "metadata": {},
   "source": [
    "#### Fit Gaussian and Vine copulas conditionally on AAPL and sample 250 new datapoints"
   ]
  },
  {
   "cell_type": "code",
   "execution_count": 221,
   "metadata": {
    "ExecuteTime": {
     "end_time": "2021-12-19T19:58:07.402125Z",
     "start_time": "2021-12-19T19:40:34.763991Z"
    }
   },
   "outputs": [
    {
     "name": "stderr",
     "output_type": "stream",
     "text": [
      "/usr/local/lib/python3.8/site-packages/copulas/bivariate/base.py:398: DeprecationWarning: `Bivariate.select_copula` has been deprecated and will be removed in a later release. Please use `copulas.bivariate.select_copula` instead\n",
      "  warnings.warn(\n"
     ]
    }
   ],
   "source": [
    "g = Gaussian(5)\n",
    "g.fit(daily_returns)\n",
    "v = Vine(5, vine_type='center')\n",
    "v.fit(daily_returns)\n",
    "g_synth = g.sample(250, 'AAPL', 5)\n",
    "v_synth = v.sample(250, 'AAPL', 5)"
   ]
  },
  {
   "cell_type": "markdown",
   "metadata": {},
   "source": [
    "#### Calculate Efficient Frontier for Gaussian generated data"
   ]
  },
  {
   "cell_type": "code",
   "execution_count": 223,
   "metadata": {
    "ExecuteTime": {
     "end_time": "2021-12-19T20:00:34.061851Z",
     "start_time": "2021-12-19T19:59:58.260707Z"
    }
   },
   "outputs": [
    {
     "name": "stderr",
     "output_type": "stream",
     "text": [
      "/usr/local/lib/python3.8/site-packages/ipykernel/ipkernel.py:287: DeprecationWarning: `should_run_async` will not call `transform_cell` automatically in the future. Please pass the result to `transformed_cell` argument and any exception that happen during thetransform in `preprocessing_exc_tuple` in IPython 7.17 and above.\n",
      "  and should_run_async(code)\n"
     ]
    }
   ],
   "source": [
    "g_returns, g_risks, _, _ = optimal_portfolio(g_synth)"
   ]
  },
  {
   "cell_type": "code",
   "execution_count": 227,
   "metadata": {
    "ExecuteTime": {
     "end_time": "2021-12-19T20:02:21.894108Z",
     "start_time": "2021-12-19T20:02:21.671660Z"
    }
   },
   "outputs": [
    {
     "data": {
      "image/png": "[encoded data removed]",
      "text/plain": [
       "<Figure size 432x288 with 1 Axes>"
      ]
     },
     "metadata": {
      "needs_background": "light"
     },
     "output_type": "display_data"
    }
   ],
   "source": [
    "rets = np.array(g_returns)\n",
    "stds = np.array(g_risks)\n",
    "plt.plot(risks, returns, lw=5)\n",
    "plt.title('Gaussian Efficient Frontier')\n",
    "plt.xlabel(\"Portfolio Risk\")\n",
    "plt.ylabel(\"Portfolio Return\")\n",
    "plt.show()"
   ]
  },
  {
   "cell_type": "markdown",
   "metadata": {},
   "source": [
    "#### Calculate Efficient Frontie"
   ]
  },
  {
   "cell_type": "code",
   "execution_count": 225,
   "metadata": {
    "ExecuteTime": {
     "end_time": "2021-12-19T20:01:05.959583Z",
     "start_time": "2021-12-19T20:00:34.367972Z"
    }
   },
   "outputs": [],
   "source": [
    "v_returns, v_risks, _, _ = optimal_portfolio(v_synth)"
   ]
  },
  {
   "cell_type": "code",
   "execution_count": 239,
   "metadata": {
    "ExecuteTime": {
     "end_time": "2021-12-19T20:15:52.808357Z",
     "start_time": "2021-12-19T20:15:52.489045Z"
    }
   },
   "outputs": [
    {
     "data": {
      "image/png": "[encoded data removed]",
      "text/plain": [
       "<Figure size 864x288 with 2 Axes>"
      ]
     },
     "metadata": {
      "needs_background": "light"
     },
     "output_type": "display_data"
    }
   ],
   "source": [
    "fig, (ax1, ax2) = plt.subplots(1, 2)\n",
    "fig.set_figheight(4)\n",
    "fig.set_figwidth(12)\n",
    "rets = np.array(v_returns)\n",
    "stds = np.array(v_risks)\n",
    "max_sharpe = np.argmax((rets/stds))\n",
    "ax1.plot(risks, returns, lw=5)\n",
    "ax1.set_xlabel(\"Portfolio Risk\")\n",
    "ax1.set_ylabel(\"Portfolio Return\")\n",
    "ax1.set_title('Vine Efficient Frontier')\n",
    "rets = np.array(g_returns)\n",
    "stds = np.array(g_risks)\n",
    "max_sharpe = np.argmax((rets/stds))\n",
    "ax2.plot(risks, returns, lw=5)\n",
    "ax2.set_title('Gaussian Efficient Frontier')\n",
    "ax2.set_xlabel(\"Portfolio Risk\")\n",
    "ax2.set_ylabel(\"Portfolio Return\")\n",
    "fig.show()"
   ]
  },
  {
   "cell_type": "code",
   "execution_count": null,
   "metadata": {},
   "outputs": [],
   "source": []
  }
 ],
 "metadata": {
  "kernelspec": {
   "display_name": "Python 3 (ipykernel)",
   "language": "python",
   "name": "python3"
  },
  "language_info": {
   "codemirror_mode": {
    "name": "ipython",
    "version": 3
   },
   "file_extension": ".py",
   "mimetype": "text/x-python",
   "name": "python",
   "nbconvert_exporter": "python",
   "pygments_lexer": "ipython3",
   "version": "3.8.10"
  },
  "toc": {
   "base_numbering": 1,
   "nav_menu": {},
   "number_sections": true,
   "sideBar": true,
   "skip_h1_title": false,
   "title_cell": "Table of Contents",
   "title_sidebar": "Contents",
   "toc_cell": false,
   "toc_position": {},
   "toc_section_display": true,
   "toc_window_display": false
  }
 },
 "nbformat": 4,
 "nbformat_minor": 4
}
